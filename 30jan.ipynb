{
 "cells": [
  {
   "cell_type": "markdown",
   "id": "f6cd41cf-79e2-4865-aab9-117d4af49c7f",
   "metadata": {},
   "source": [
    "1.Write a program to accept percentage of the user and display the grade according to the following criteria:\n",
    "Marks         Grade\n",
    ">90            A\n",
    "<=90 and 80>   B\n",
    "<=80 and 60>=  C\n",
    "below 60       D"
   ]
  },
  {
   "cell_type": "code",
   "execution_count": 2,
   "id": "8f963e13-2859-4d39-a978-e4324cc8a3c8",
   "metadata": {},
   "outputs": [
    {
     "name": "stdin",
     "output_type": "stream",
     "text": [
      "Enter the percentage:  87\n"
     ]
    },
    {
     "name": "stdout",
     "output_type": "stream",
     "text": [
      "B Grade\n"
     ]
    }
   ],
   "source": [
    "n=int(input(\"Enter the percentage: \"))\n",
    "if(n>90 and n<=100):\n",
    "    print(\"A Grade\")\n",
    "elif(n<=90 and n>80):\n",
    "    print(\"B Grade\")\n",
    "elif(n<=80 and n>=60):\n",
    "    print(\"C Grade\")\n",
    "elif(n<60 and n>=0):\n",
    "    print(\"D Grade\")"
   ]
  },
  {
   "cell_type": "markdown",
   "id": "0dd21d5e-09fc-4d80-95fc-04097cdf950e",
   "metadata": {},
   "source": [
    "2.Write a program to accept the cost price of a bike and display the road tax to be paid according to the following criteria:\n",
    "Tax            Cost Price(in Rs)\n",
    "15%            >100000\n",
    "10%            >50000 and <=100000 \n",
    "5%             <=50000"
   ]
  },
  {
   "cell_type": "code",
   "execution_count": 3,
   "id": "a195d24a-a9e8-4026-b142-660140c46239",
   "metadata": {},
   "outputs": [
    {
     "name": "stdin",
     "output_type": "stream",
     "text": [
      "Enter the cost price of bike:  5953\n"
     ]
    },
    {
     "name": "stdout",
     "output_type": "stream",
     "text": [
      "Tax to be paid:  297.65000000000003\n"
     ]
    }
   ],
   "source": [
    "cost=int(input(\"Enter the cost price of bike: \"))\n",
    "if(cost>100000):\n",
    "    print(\"Tax to be paid: \",0.15*cost)\n",
    "elif(cost<=100000 and cost>50000):\n",
    "    print(\"Tax to be paid: \",0.10*cost)\n",
    "elif(cost<=50000 and cost>0):\n",
    "    print(\"Tax to be paid: \",0.05*cost)"
   ]
  },
  {
   "cell_type": "markdown",
   "id": "56c5df88-fb65-4d83-b8be-0cef9c6d2df4",
   "metadata": {},
   "source": [
    "3.Accept any city from the user and display monuments of that city.\n",
    "City        Monument\n",
    "Delhi       Red Fort\n",
    "Agra        Taj Mahal\n",
    "Jaipur      Jai Mahal"
   ]
  },
  {
   "cell_type": "code",
   "execution_count": 4,
   "id": "bb8cdf68-4994-4f0a-9841-3daba8ebcbb5",
   "metadata": {},
   "outputs": [
    {
     "name": "stdin",
     "output_type": "stream",
     "text": [
      "Enter the name of city: Agra\n"
     ]
    },
    {
     "name": "stdout",
     "output_type": "stream",
     "text": [
      "Monument:  Taj Mahal\n"
     ]
    }
   ],
   "source": [
    "places={\"Delhi\":\"Red Fort\",\"Agra\":\"Taj Mahal\",\"Jaipur\":\"Jai Mahal\"}\n",
    "city=input(\"Enter the name of city:\")\n",
    "if(city in places):\n",
    "    print(\"Monument: \",places[city])\n",
    "else:\n",
    "    print(\"Enter valid city!!\")"
   ]
  },
  {
   "cell_type": "markdown",
   "id": "09d82651-253f-412c-ae53-e6ee083463c0",
   "metadata": {},
   "source": [
    "4.Check how many times a given number can be divided by 3 before it is less than or equal to 10"
   ]
  },
  {
   "cell_type": "code",
   "execution_count": 5,
   "id": "40e16af2-eeef-44c4-a7ce-be1846a84288",
   "metadata": {},
   "outputs": [
    {
     "name": "stdin",
     "output_type": "stream",
     "text": [
      "Enter the number:  105\n"
     ]
    },
    {
     "name": "stdout",
     "output_type": "stream",
     "text": [
      "Answer: 3\n"
     ]
    }
   ],
   "source": [
    "n=int(input(\"Enter the number: \"))\n",
    "count=0\n",
    "while(n>=10):\n",
    "    count=count+1\n",
    "    n=n//3\n",
    "print(f\"Answer: {count}\")"
   ]
  },
  {
   "cell_type": "markdown",
   "id": "ea50b41e-7b97-49cf-93b2-cc5775de1c93",
   "metadata": {},
   "source": [
    "5.Why and when to use while loop in python give a detailed description with example\n",
    "->With the while loop we can execute a set of statements as long as a condition is true.\n",
    "  1.A while loop evaluates the condition\n",
    "  2.If the condition evaluates to True, the code inside the while loop is executed.\n",
    "  3.condition is evaluated again.\n",
    "  4.This process continues until the condition is False.\n",
    "  5.When condition evaluates to False, the loop stops."
   ]
  },
  {
   "cell_type": "code",
   "execution_count": 6,
   "id": "0f8b9d5b-0cbe-4cbc-834a-cc1e6899c7be",
   "metadata": {},
   "outputs": [
    {
     "name": "stdout",
     "output_type": "stream",
     "text": [
      "1\n",
      "2\n",
      "3\n",
      "4\n",
      "5\n"
     ]
    }
   ],
   "source": [
    "#Example\n",
    "i=1\n",
    "while(i!=6):\n",
    "    print(i)\n",
    "    i+=1"
   ]
  },
  {
   "cell_type": "markdown",
   "id": "ea73ba11-8238-4118-83f3-7dd17d05b275",
   "metadata": {},
   "source": [
    "6.Use nested while loop to print 3 different pattern"
   ]
  },
  {
   "cell_type": "code",
   "execution_count": 7,
   "id": "df9d916c-dec0-42bc-b4f7-abb6119d51a0",
   "metadata": {},
   "outputs": [
    {
     "name": "stdin",
     "output_type": "stream",
     "text": [
      "Enter a number:  4\n"
     ]
    },
    {
     "name": "stdout",
     "output_type": "stream",
     "text": [
      "* \n",
      "* * \n",
      "* * * \n",
      "* * * * \n"
     ]
    }
   ],
   "source": [
    "n=int(input(\"Enter a number: \"))\n",
    "i=0\n",
    "while(i!=n):\n",
    "    j=0\n",
    "    while(j!=i+1):\n",
    "        print(\"*\",end=\" \")\n",
    "        j=j+1\n",
    "    print()\n",
    "    i=i+1\n"
   ]
  },
  {
   "cell_type": "code",
   "execution_count": 8,
   "id": "bd19e59d-cf1b-468e-ba07-19b26f7726b6",
   "metadata": {},
   "outputs": [
    {
     "name": "stdin",
     "output_type": "stream",
     "text": [
      "Enter a number:  5\n"
     ]
    },
    {
     "name": "stdout",
     "output_type": "stream",
     "text": [
      "* * * * * \n",
      "* * * * * \n",
      "* * * * * \n",
      "* * * * * \n",
      "* * * * * \n"
     ]
    }
   ],
   "source": [
    "n=int(input(\"Enter a number: \"))\n",
    "i=0\n",
    "while(i!=n):\n",
    "    j=0\n",
    "    while(j!=n):\n",
    "        print(\"*\",end=\" \")\n",
    "        j=j+1\n",
    "    print()\n",
    "    i=i+1"
   ]
  },
  {
   "cell_type": "code",
   "execution_count": 9,
   "id": "29b367db-1bd5-4db9-9920-037728eda86d",
   "metadata": {},
   "outputs": [
    {
     "name": "stdin",
     "output_type": "stream",
     "text": [
      "Enter a number:  5\n"
     ]
    },
    {
     "name": "stdout",
     "output_type": "stream",
     "text": [
      "        * \n",
      "      * * * \n",
      "    * * * * * \n",
      "  * * * * * * * \n",
      "* * * * * * * * * \n"
     ]
    }
   ],
   "source": [
    "n=int(input(\"Enter a number: \"))\n",
    "i=0\n",
    "while(i!=n):\n",
    "    j=0\n",
    "    while(j!=n-(i+1)):\n",
    "        print(\" \",end=\" \")\n",
    "        j=j+1\n",
    "    print(\"* \"*(2*(i)+1),)\n",
    "    i=i+1"
   ]
  },
  {
   "cell_type": "markdown",
   "id": "f838f73e-da5b-4019-9475-d7c0b557f2be",
   "metadata": {},
   "source": [
    "7.Reverse a while loop to display numbers from 10 to 1"
   ]
  },
  {
   "cell_type": "code",
   "execution_count": 19,
   "id": "8d6ff774-0aa8-4123-bf91-bbc4c69e4ea0",
   "metadata": {},
   "outputs": [
    {
     "name": "stdout",
     "output_type": "stream",
     "text": [
      "10\n",
      "9\n",
      "8\n",
      "7\n",
      "6\n",
      "5\n",
      "4\n",
      "3\n",
      "2\n",
      "1\n"
     ]
    }
   ],
   "source": [
    "i=10\n",
    "while(i!=0):\n",
    "    print(i)\n",
    "    i=i-1"
   ]
  },
  {
   "cell_type": "code",
   "execution_count": null,
   "id": "3ff78ce7-a6eb-47a6-afcb-07b0985637f9",
   "metadata": {},
   "outputs": [],
   "source": []
  }
 ],
 "metadata": {
  "kernelspec": {
   "display_name": "Python 3 (ipykernel)",
   "language": "python",
   "name": "python3"
  },
  "language_info": {
   "codemirror_mode": {
    "name": "ipython",
    "version": 3
   },
   "file_extension": ".py",
   "mimetype": "text/x-python",
   "name": "python",
   "nbconvert_exporter": "python",
   "pygments_lexer": "ipython3",
   "version": "3.10.8"
  }
 },
 "nbformat": 4,
 "nbformat_minor": 5
}

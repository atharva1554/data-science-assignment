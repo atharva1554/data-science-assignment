{
 "cells": [
  {
   "cell_type": "markdown",
   "id": "57b3573e-fad8-4d51-a37b-730f16e010c5",
   "metadata": {},
   "source": [
    "1.Who developed Python Programming Language?\n",
    "-> Guido van Rossum developed Python Programming Language."
   ]
  },
  {
   "cell_type": "markdown",
   "id": "20b1804a-6f5b-4e63-a42f-79de0408cb6a",
   "metadata": {},
   "source": [
    "2.Which type of Programming does Python support?\n",
    "->Python is an interpreted programming language that supports object-oriented, structured, functional programming."
   ]
  },
  {
   "cell_type": "markdown",
   "id": "ff858755-c2da-4dca-af84-1455a7ffbd88",
   "metadata": {},
   "source": [
    "3.Is python case sensitive when dealing with identifiers?\n",
    "->The Python language is case-sensitive. Identifiers, keywords, and names of classes must be written in lowercase letters. However, Python allows developers to write in uppercase letters for constants (i.e. variables that have a value assigned to them during program execution), and for built-in functions, and for class and module names, etc.\n",
    "The identifier is case sensitive, so “fun”, “Fun” and “FUN” are different variables. "
   ]
  },
  {
   "cell_type": "markdown",
   "id": "d92a7813-d933-4da9-815f-6695c0e75c7f",
   "metadata": {},
   "source": [
    "4.What is the correct extension of python file?\n",
    "->The correct extension of Python file is .py.\n",
    "eg:- file_name.py\n",
    "Other extensions are:-.pyc,.pyo,.pyw,.pyd,.pyz,.pyi."
   ]
  },
  {
   "cell_type": "markdown",
   "id": "b213c148-0e6a-4234-bff0-6ec734e869b6",
   "metadata": {},
   "source": [
    "5.Is python code compiled or interpreted?\n",
    "->Python is Compiled Intepreted Language."
   ]
  },
  {
   "cell_type": "markdown",
   "id": "f2bcbf9c-85fc-46b9-a349-04f9ab770f17",
   "metadata": {},
   "source": [
    "6.Name a few blocks of code used to define in python language?\n",
    "->Indentation is used to define a block of code in python. Braces {} are used to define a block of code in most programming languages, like C, C++, and Java. But this indentation makes python unique among all programming languages."
   ]
  },
  {
   "cell_type": "markdown",
   "id": "e662c109-beda-4971-8b40-742e8b76f9fe",
   "metadata": {},
   "source": [
    "7.State a character used to give single line comments in Python.\n",
    "-> # is the character used to give single line comments in Python."
   ]
  },
  {
   "cell_type": "markdown",
   "id": "fb9782a9-7fda-4a6a-9dab-e8b21912336d",
   "metadata": {},
   "source": [
    "8.Mention functions which can help us to find the version of Python that we are currently working on.\n",
    "-> python_version()."
   ]
  },
  {
   "cell_type": "code",
   "execution_count": 1,
   "id": "a910dc4d-81db-4b92-ae3a-1c3e68828058",
   "metadata": {},
   "outputs": [
    {
     "data": {
      "text/plain": [
       "'3.10.8'"
      ]
     },
     "execution_count": 1,
     "metadata": {},
     "output_type": "execute_result"
    }
   ],
   "source": [
    "from platform import python_version\n",
    "python_version()"
   ]
  },
  {
   "cell_type": "markdown",
   "id": "b4fc74eb-85ae-4336-a9a1-445b5f4f7010",
   "metadata": {},
   "source": [
    "9.Python supports the creation of anonymous function at runtime, using a construct called- lambda"
   ]
  },
  {
   "cell_type": "markdown",
   "id": "76346e38-16d3-4aca-9506-cc45e8f7f6ae",
   "metadata": {},
   "source": [
    "10.What does pip stand for python.\n",
    "->pip stands for Preferred Installer Program"
   ]
  },
  {
   "cell_type": "markdown",
   "id": "ba5b28ea-df89-46c9-89fd-cac94c7f1766",
   "metadata": {},
   "source": [
    "11.Mention few in-built functions in Python.\n",
    "->1.max()\n",
    "  2.len()\n",
    "  3.min()\n",
    "  4.print()\n",
    "  5.input()"
   ]
  },
  {
   "cell_type": "markdown",
   "id": "e2153c9e-c98b-4deb-905f-5a8e86a8b363",
   "metadata": {},
   "source": [
    "12.What is the maximum possible length of the identifier in Python?\n",
    "->In Python, the highest possible length of an identifier is 79 characters."
   ]
  },
  {
   "cell_type": "markdown",
   "id": "cdbc5d29-416b-493b-8d91-4f81508811d1",
   "metadata": {},
   "source": [
    "13.What are the benefits of using Pyhton?\n",
    "->1.Presence of third-party modules \n",
    "  2.Extensive support libraries(NumPy for numerical calculations, Pandas for data analytics, etc.) \n",
    "  3.Open source and large active community base \n",
    "  4.Versatile, Easy to read, learn and write\n",
    "  5.User-friendly data structures \n",
    "  6.High-level language "
   ]
  },
  {
   "cell_type": "markdown",
   "id": "f05e15e8-ee8e-4d01-8f51-30be8853989a",
   "metadata": {},
   "source": [
    "14.How is memory managed in python?\n",
    "->  According to the Python memory management documentation, Python has a private heap that stores our program’s objects and data structures. Python memory manager takes care of the bulk of the memory management work and allows us to concentrate on our code.\n",
    "Types of memory allocation:\n",
    "1.Static memory allocation\n",
    "2.Dynamic memory allocation"
   ]
  },
  {
   "cell_type": "markdown",
   "id": "cdbcb53f-f6eb-4656-b560-98fa4f3daac9",
   "metadata": {},
   "source": [
    "15.How to install Python on Windows and set path variables?\n",
    "->First off, if you've not installed Python on your machine, go to the python.org website to download and install your preferred version.\n",
    "Once Python is successfully installed on your PC, check if it's already added to the Windows PATH. Open up your terminal and type python, then hit the Enter key. The command might return an error that says \"'python' is not recognized as an internal or external command, operable program or batch file,\" indicating that Python isn't added to your machine's PATH variable yet.\n",
    "-Find Python's Installation Path on Your PC\n",
    "-Add Python to PATH in User Variables"
   ]
  },
  {
   "cell_type": "markdown",
   "id": "e963226b-4fba-47d0-869e-17efd0bfe7df",
   "metadata": {},
   "source": [
    "16.Is identation required in python?\n",
    "->Indentation refers to the spaces at the beginning of a code line.\n",
    "Where in other programming languages the indentation in code is for readability only, the indentation in Python is very important.\n",
    "Python uses indentation to indicate a block of code.\n",
    "Python will give you an error if you skip the indentation."
   ]
  },
  {
   "cell_type": "code",
   "execution_count": null,
   "id": "a3f51567-957b-4e1f-a6e6-a24a07c92c38",
   "metadata": {},
   "outputs": [],
   "source": []
  }
 ],
 "metadata": {
  "kernelspec": {
   "display_name": "Python 3 (ipykernel)",
   "language": "python",
   "name": "python3"
  },
  "language_info": {
   "codemirror_mode": {
    "name": "ipython",
    "version": 3
   },
   "file_extension": ".py",
   "mimetype": "text/x-python",
   "name": "python",
   "nbconvert_exporter": "python",
   "pygments_lexer": "ipython3",
   "version": "3.10.8"
  }
 },
 "nbformat": 4,
 "nbformat_minor": 5
}

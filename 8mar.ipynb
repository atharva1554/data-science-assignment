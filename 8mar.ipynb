{
 "cells": [
  {
   "cell_type": "markdown",
   "id": "b3e029f9-6478-4cbc-a028-0e1bbc719fd7",
   "metadata": {},
   "source": [
    "## Q1. What is the Probability density function?"
   ]
  },
  {
   "cell_type": "markdown",
   "id": "4904ed54-a575-47f9-b4de-905dd420a6a0",
   "metadata": {},
   "source": [
    "The Probability Density Function (PDF) is a function that describes the probability distribution of a continuous random variable. The PDF represents the relative likelihood of the values that the random variable can take.\n",
    "\n",
    "In other words, the PDF provides a mathematical description of the probabilities of all possible outcomes of a continuous random variable. It is defined such that the integral of the PDF over a given range of values gives the probability of the random variable taking on a value within that range.\n",
    "\n",
    "The PDF is a non-negative function that integrates to 1 over the entire range of the variable. It can be graphically represented by a curve, where the area under the curve between two values represents the probability of the variable taking on a value within that range.\n",
    "\n",
    "In mathematical notation, the PDF of a continuous random variable X is denoted as f(x) and is defined as:\n",
    "\n",
    "f(x) = dF(x) / dx\n",
    "\n",
    "where F(x) is the cumulative distribution function (CDF) of X, which gives the probability that X is less than or equal to a certain value x.\n",
    "\n",
    "The PDF is a fundamental concept in probability theory and is used in many applications, including statistical modeling, hypothesis testing, and machine learning."
   ]
  },
  {
   "cell_type": "markdown",
   "id": "ee3a30ac-ef2b-44b9-80a8-bc2e0c603f54",
   "metadata": {},
   "source": [
    "## Q2. What are the types of Probability distribution?"
   ]
  },
  {
   "cell_type": "markdown",
   "id": "6ef410a0-c0af-48bc-98b3-a2490ef0ee9c",
   "metadata": {},
   "source": [
    "Probability distributions are mathematical functions that describe the likelihood of observing different outcomes in a random variable. There are many types of probability distributions, but some of the most commonly used are:\n",
    "\n",
    "1. Bernoulli distribution: This distribution describes the probability of a single binary outcome, such as the success or failure of an event.\n",
    "\n",
    "2. Binomial distribution: This distribution describes the probability of a specific number of successes in a fixed number of independent trials, where each trial has a fixed probability of success.\n",
    "\n",
    "3. Poisson distribution: This distribution describes the probability of a certain number of events occurring in a fixed interval of time or space, given the average rate of occurrence.\n",
    "\n",
    "4. Normal distribution: This is a continuous probability distribution that describes a range of continuous variables, such as height or weight, that are normally distributed around a mean value.\n",
    "\n",
    "There are many other probability distributions, each with its own unique characteristics and applications."
   ]
  },
  {
   "cell_type": "markdown",
   "id": "a669a9fa-654f-43c4-b3a7-b376693cd2ef",
   "metadata": {},
   "source": [
    "## Q3. Write a Python function to calculate the probability density function of a normal distribution with given mean and standard deviation at a given point."
   ]
  },
  {
   "cell_type": "code",
   "execution_count": 1,
   "id": "0a51a007-7ac0-4ee5-8286-a4fdbb25f225",
   "metadata": {},
   "outputs": [],
   "source": [
    "import numpy as np \n",
    "from scipy import stats\n",
    "import matplotlib.pyplot as plt\n",
    "import pylab\n",
    "import seaborn as sns\n"
   ]
  },
  {
   "cell_type": "code",
   "execution_count": 2,
   "id": "d42f3119-d11f-4592-99a7-8612af8d22db",
   "metadata": {},
   "outputs": [],
   "source": [
    "def plot_graph (df,feature):\n",
    "    plt.figure(figsize=(10,6))\n",
    "    plt.subplot(1,2,1)\n",
    "    sns.histplot(df[feature],kde=True)\n",
    "    plt.subplot(1,2,2)\n",
    "    stats.probplot(df[feature],dist='norm',plot=pylab)\n",
    "    plt.show()"
   ]
  },
  {
   "cell_type": "code",
   "execution_count": 3,
   "id": "528cb0b9-823c-4ea8-bdac-1a5d5601075d",
   "metadata": {},
   "outputs": [
    {
     "data": {
      "text/html": [
       "<div>\n",
       "<style scoped>\n",
       "    .dataframe tbody tr th:only-of-type {\n",
       "        vertical-align: middle;\n",
       "    }\n",
       "\n",
       "    .dataframe tbody tr th {\n",
       "        vertical-align: top;\n",
       "    }\n",
       "\n",
       "    .dataframe thead th {\n",
       "        text-align: right;\n",
       "    }\n",
       "</style>\n",
       "<table border=\"1\" class=\"dataframe\">\n",
       "  <thead>\n",
       "    <tr style=\"text-align: right;\">\n",
       "      <th></th>\n",
       "      <th>total_bill</th>\n",
       "      <th>tip</th>\n",
       "      <th>sex</th>\n",
       "      <th>smoker</th>\n",
       "      <th>day</th>\n",
       "      <th>time</th>\n",
       "      <th>size</th>\n",
       "    </tr>\n",
       "  </thead>\n",
       "  <tbody>\n",
       "    <tr>\n",
       "      <th>0</th>\n",
       "      <td>16.99</td>\n",
       "      <td>1.01</td>\n",
       "      <td>Female</td>\n",
       "      <td>No</td>\n",
       "      <td>Sun</td>\n",
       "      <td>Dinner</td>\n",
       "      <td>2</td>\n",
       "    </tr>\n",
       "    <tr>\n",
       "      <th>1</th>\n",
       "      <td>10.34</td>\n",
       "      <td>1.66</td>\n",
       "      <td>Male</td>\n",
       "      <td>No</td>\n",
       "      <td>Sun</td>\n",
       "      <td>Dinner</td>\n",
       "      <td>3</td>\n",
       "    </tr>\n",
       "    <tr>\n",
       "      <th>2</th>\n",
       "      <td>21.01</td>\n",
       "      <td>3.50</td>\n",
       "      <td>Male</td>\n",
       "      <td>No</td>\n",
       "      <td>Sun</td>\n",
       "      <td>Dinner</td>\n",
       "      <td>3</td>\n",
       "    </tr>\n",
       "    <tr>\n",
       "      <th>3</th>\n",
       "      <td>23.68</td>\n",
       "      <td>3.31</td>\n",
       "      <td>Male</td>\n",
       "      <td>No</td>\n",
       "      <td>Sun</td>\n",
       "      <td>Dinner</td>\n",
       "      <td>2</td>\n",
       "    </tr>\n",
       "    <tr>\n",
       "      <th>4</th>\n",
       "      <td>24.59</td>\n",
       "      <td>3.61</td>\n",
       "      <td>Female</td>\n",
       "      <td>No</td>\n",
       "      <td>Sun</td>\n",
       "      <td>Dinner</td>\n",
       "      <td>4</td>\n",
       "    </tr>\n",
       "  </tbody>\n",
       "</table>\n",
       "</div>"
      ],
      "text/plain": [
       "   total_bill   tip     sex smoker  day    time  size\n",
       "0       16.99  1.01  Female     No  Sun  Dinner     2\n",
       "1       10.34  1.66    Male     No  Sun  Dinner     3\n",
       "2       21.01  3.50    Male     No  Sun  Dinner     3\n",
       "3       23.68  3.31    Male     No  Sun  Dinner     2\n",
       "4       24.59  3.61  Female     No  Sun  Dinner     4"
      ]
     },
     "execution_count": 3,
     "metadata": {},
     "output_type": "execute_result"
    }
   ],
   "source": [
    "df = sns.load_dataset('tips')\n",
    "df.head()"
   ]
  },
  {
   "cell_type": "code",
   "execution_count": 4,
   "id": "b651b5f6-ec38-4cc4-b0ac-67914d220a7c",
   "metadata": {},
   "outputs": [
    {
     "data": {
      "image/png": "[encoded data removed]",
      "text/plain": [
       "<Figure size 1000x600 with 2 Axes>"
      ]
     },
     "metadata": {},
     "output_type": "display_data"
    }
   ],
   "source": [
    "plot_graph(df,'tip')"
   ]
  },
  {
   "cell_type": "markdown",
   "id": "9cffe772-5bcb-4121-a252-3443cf76c595",
   "metadata": {},
   "source": [
    "## Q4. What are the properties of Binomial distribution? Give two examples of events where binomial distribution can be applied."
   ]
  },
  {
   "cell_type": "markdown",
   "id": "21c22417-9876-4597-9767-0207acb68c19",
   "metadata": {},
   "source": [
    "The binomial distribution is a probability distribution that describes the number of successes in a fixed number of independent trials, each with the same probability of success. Here are some properties of the binomial distribution:\n",
    "\n",
    "The trials must be independent, meaning the outcome of one trial does not affect the outcome of another trial.\n",
    "Each trial has only two possible outcomes, often referred to as success or failure.\n",
    "The probability of success, denoted by p, must be the same for each trial.\n",
    "The number of trials, denoted by n, must be fixed in advance.\n",
    "Given these properties, we can use the binomial distribution to calculate the probability of a specific number of successes occurring in a fixed number of trials.\n",
    "\n",
    "Two examples of events where the binomial distribution can be applied are:\n",
    "\n",
    "Flipping a coin: If you flip a fair coin (i.e., one with a probability of success of 0.5) 10 times, you can use the binomial distribution to calculate the probability of getting a certain number of heads (i.e., successes) in those 10 flips.\n",
    "Testing a drug: If you are testing a new drug to see if it cures a certain disease, you can use the binomial distribution to calculate the probability of a certain number of patients being cured out of a fixed number of patients who are treated with the drug."
   ]
  },
  {
   "cell_type": "markdown",
   "id": "81e6d56e-1a6f-4f59-8f48-6f711f8f1301",
   "metadata": {},
   "source": [
    "## Q5. Generate a random sample of size 1000 from a binomial distribution with probability of success 0.4 and plot a histogram of the results using matplotlib."
   ]
  },
  {
   "cell_type": "code",
   "execution_count": 5,
   "id": "9b8aa2fb-16df-4275-bc61-cd1e47c51c4f",
   "metadata": {},
   "outputs": [
    {
     "data": {
      "image/png": "[encoded data removed]",
      "text/plain": [
       "<Figure size 640x480 with 1 Axes>"
      ]
     },
     "metadata": {},
     "output_type": "display_data"
    }
   ],
   "source": [
    "import numpy as np\n",
    "import matplotlib.pyplot as plt\n",
    "\n",
    "# Set the probability of success and the number of trials\n",
    "p = 0.4\n",
    "n = 1000\n",
    "\n",
    "# Generate a random sample from the binomial distribution\n",
    "sample = np.random.binomial(n, p, size=1000)\n",
    "\n",
    "# Plot a histogram of the sample\n",
    "plt.hist(sample, bins=20, density=True, alpha=0.7, color='blue')\n",
    "plt.xlabel('Number of Successes')\n",
    "plt.ylabel('Density')\n",
    "plt.title('Histogram of Binomial Distribution with p=0.4 and n=1000')\n",
    "plt.show()\n"
   ]
  },
  {
   "cell_type": "markdown",
   "id": "b94a9426-593c-4bf2-929f-07ad8da0a431",
   "metadata": {
    "tags": []
   },
   "source": [
    "## Q6. Write a Python function to calculate the cumulative distribution function of a Poisson distribution with given mean at a given point."
   ]
  },
  {
   "cell_type": "code",
   "execution_count": 6,
   "id": "e757726d-d061-4523-b874-17d25d3e7361",
   "metadata": {
    "jupyter": {
     "source_hidden": true
    },
    "tags": []
   },
   "outputs": [
    {
     "name": "stdout",
     "output_type": "stream",
     "text": [
      "CDF of Poisson distribution with mean 2.5 at point 3 is 0.7576\n"
     ]
    }
   ],
   "source": [
    "from scipy.stats import poisson\n",
    "\n",
    "def poisson_cdf(mean, point):\n",
    "    \"\"\"\n",
    "    Calculates the cumulative distribution function (CDF) of a Poisson distribution\n",
    "    with a given mean at a given point.\n",
    "    \"\"\"\n",
    "    cdf = poisson.cdf(point, mean)\n",
    "    return cdf\n",
    "mean = 2.5\n",
    "point = 3\n",
    "cdf = poisson_cdf(mean, point)\n",
    "print(\"CDF of Poisson distribution with mean {} at point {} is {:.4f}\".format(mean, point, cdf))\n"
   ]
  },
  {
   "cell_type": "markdown",
   "id": "10de6273-25b9-4afb-94cf-a5c713f4818d",
   "metadata": {
    "jp-MarkdownHeadingCollapsed": true,
    "tags": []
   },
   "source": [
    "## Q7. How Binomial distribution different from Poisson distribution?"
   ]
  },
  {
   "cell_type": "markdown",
   "id": "9880c76c-a9f9-42b7-acc1-9302a1b9c880",
   "metadata": {},
   "source": [
    "The binomial and Poisson distributions are both probability distributions that describe the number of successes in a series of trials. However, they differ in several ways:\n",
    "\n",
    "Definition: The binomial distribution describes the number of successes in a fixed number of independent trials, each with the same probability of success. The Poisson distribution describes the number of rare events that occur in a fixed amount of time or space.\n",
    "\n",
    "Number of Trials: The binomial distribution is based on a fixed number of independent trials, while the Poisson distribution does not have a fixed number of trials, but instead considers the number of rare events that occur in a fixed amount of time or space.\n",
    "\n",
    "Probability of Success: In the binomial distribution, the probability of success is constant for each trial, while in the Poisson distribution, the probability of an event occurring is usually very small.\n",
    "\n",
    "Mean and Variance: The mean of the binomial distribution is equal to np, where n is the number of trials and p is the probability of success. The variance is equal to np*(1-p). In the Poisson distribution, the mean and variance are equal to λ, the rate parameter.\n",
    "\n",
    "Assumptions: The binomial distribution assumes that the trials are independent and that the probability of success is constant for each trial. The Poisson distribution assumes that rare events occur randomly and independently of each other."
   ]
  },
  {
   "cell_type": "markdown",
   "id": "f4368d9b-3bf5-41f0-ae2f-1ed3e4b58c7c",
   "metadata": {},
   "source": [
    "## Q8. Generate a random sample of size 1000 from a Poisson distribution with mean 5 and calculate the sample mean and variance."
   ]
  },
  {
   "cell_type": "markdown",
   "id": "a7a60826-4e0c-4ea6-983f-e4c49b173c51",
   "metadata": {},
   "source": [
    "To generate a random sample of size 1000 from a Poisson distribution with mean 5, we can use a random number generator that follows this distribution. In Python, we can use the NumPy library for this:"
   ]
  },
  {
   "cell_type": "code",
   "execution_count": 7,
   "id": "b9a8b4b6-7ad7-4968-9689-ef83edd795b8",
   "metadata": {},
   "outputs": [],
   "source": [
    "import numpy as np\n",
    "\n",
    "np.random.seed(42)  # for reproducibility\n",
    "sample = np.random.poisson(lam=5, size=1000)\n"
   ]
  },
  {
   "cell_type": "markdown",
   "id": "d364c927-5aab-42ad-a50a-e59f58bd28c1",
   "metadata": {},
   "source": [
    "Now we have a random sample of size 1000 from a Poisson distribution with mean 5. To calculate the sample mean and variance, we can use the NumPy functions mean and var:"
   ]
  },
  {
   "cell_type": "code",
   "execution_count": 8,
   "id": "1cd48143-4fbd-4767-ae6b-5cc65e9c5333",
   "metadata": {},
   "outputs": [],
   "source": [
    "sample_mean = np.mean(sample)\n",
    "sample_var = np.var(sample, ddof=1)\n"
   ]
  },
  {
   "cell_type": "markdown",
   "id": "d91a4637-5598-43e0-ab7d-76934cef4976",
   "metadata": {},
   "source": [
    "Here, ddof=1 specifies that we want to calculate the sample variance with Bessel's correction, which is the standard formula used to estimate the population variance from a sample.\n",
    "\n",
    "The resulting values of sample_mean and sample_var will depend on the particular random sample that was generated, but they should be close to the true mean and variance of a Poisson distribution with mean 5, which are both equal to 5."
   ]
  },
  {
   "cell_type": "markdown",
   "id": "0a08bdc3-14ff-4b35-8eb2-f931e764dfaf",
   "metadata": {},
   "source": [
    "## Q9. How mean and variance are related in Binomial distribution and Poisson distribution?"
   ]
  },
  {
   "cell_type": "markdown",
   "id": "0a6df0f8-ad37-4be9-8547-49c3065f6d28",
   "metadata": {},
   "source": [
    "In the binomial distribution, the mean and variance are related by the formula:"
   ]
  },
  {
   "cell_type": "code",
   "execution_count": 9,
   "id": "67790df9-6e76-4ae0-acce-d952a3c21d8c",
   "metadata": {},
   "outputs": [],
   "source": [
    "mean = n*p\n",
    "variance = n*p*(1-p)\n"
   ]
  },
  {
   "cell_type": "markdown",
   "id": "09b0c4fc-d27c-4ae7-af52-60e44e89d146",
   "metadata": {},
   "source": [
    "where n is the number of trials, and p is the probability of success in each trial.\n",
    "\n",
    "In the Poisson distribution, the mean and variance are equal and are given by:"
   ]
  },
  {
   "cell_type": "markdown",
   "id": "5427a57a-0450-4728-94d8-2eddcd6952e1",
   "metadata": {},
   "source": [
    "mean = variance = lambda\n"
   ]
  },
  {
   "cell_type": "markdown",
   "id": "cd0ed42e-cf31-4ebd-9b48-14d1a4a838c2",
   "metadata": {},
   "source": [
    "where lambda is the rate parameter that determines the average number of events in a fixed interval of time or space.\n",
    "\n",
    "The relationship between mean and variance in the binomial distribution can be understood as follows: if p is close to 0 or 1, then most of the trials will result in either success or failure, respectively, and the distribution will be very peaked around the mean value n*p. This means that there will be little variability in the outcomes, and the variance will be small. On the other hand, if p is close to 0.5, then the distribution will be more spread out, and there will be more variability in the outcomes, resulting in a larger variance.\n",
    "\n",
    "In the Poisson distribution, the mean and variance are equal because the probability of observing a certain number of events is solely determined by the rate parameter lambda, which is also equal to the expected number of events. As a result, the variance is a measure of the variability of the distribution around its mean value, and since the Poisson distribution has only one parameter, the variance must be equal to the mean."
   ]
  },
  {
   "cell_type": "markdown",
   "id": "acab47cc-9487-474e-a7e6-c0dc983fca42",
   "metadata": {},
   "source": [
    "## Q10. In normal distribution with respect to mean position, where does the least frequent data appear?"
   ]
  },
  {
   "cell_type": "markdown",
   "id": "1cc07ddb-12be-40e5-ad79-0c1f9299f07c",
   "metadata": {},
   "source": [
    "In a normal distribution, the least frequent data appears in the tails of the distribution, which are located at the extreme ends of the distribution, far away from the mean. The normal distribution is a symmetric distribution, with the mean, median, and mode all located at the center of the distribution.\n",
    "\n",
    "The tails of the normal distribution contain the least frequent data because they represent the extreme values that are far away from the mean. In a standard normal distribution (i.e., a normal distribution with a mean of 0 and a standard deviation of 1), approximately 5% of the data is located in each tail beyond 2 standard deviations from the mean. Beyond 3 standard deviations from the mean, the proportion of data in the tails decreases rapidly to less than 0.3%.\n",
    "\n",
    "Thus, if the mean is located at the center of the distribution, the least frequent data will be located at the extreme ends of the distribution, far away from the mean."
   ]
  },
  {
   "cell_type": "code",
   "execution_count": null,
   "id": "3e46d037-ff18-40a2-b692-a2a8dabfd228",
   "metadata": {},
   "outputs": [],
   "source": []
  },
  {
   "cell_type": "code",
   "execution_count": null,
   "id": "65245cd3-6b2c-43ac-a7bc-b9429701fecb",
   "metadata": {},
   "outputs": [],
   "source": []
  },
  {
   "cell_type": "code",
   "execution_count": null,
   "id": "79224e36-38cd-4c98-9063-5cb632593787",
   "metadata": {},
   "outputs": [],
   "source": []
  },
  {
   "cell_type": "code",
   "execution_count": null,
   "id": "15e0d476-01da-4ac6-98e6-1471fb3f46c4",
   "metadata": {},
   "outputs": [],
   "source": []
  }
 ],
 "metadata": {
  "kernelspec": {
   "display_name": "Python 3 (ipykernel)",
   "language": "python",
   "name": "python3"
  },
  "language_info": {
   "codemirror_mode": {
    "name": "ipython",
    "version": 3
   },
   "file_extension": ".py",
   "mimetype": "text/x-python",
   "name": "python",
   "nbconvert_exporter": "python",
   "pygments_lexer": "ipython3",
   "version": "3.10.8"
  }
 },
 "nbformat": 4,
 "nbformat_minor": 5
}

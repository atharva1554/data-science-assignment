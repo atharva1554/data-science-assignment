{
 "cells": [
  {
   "cell_type": "markdown",
   "id": "be7049f2-633b-4eff-800f-a5173d69d9d0",
   "metadata": {},
   "source": [
    "### Q1. What is Flask Framework? What are the advantages of Flask Framework?"
   ]
  },
  {
   "cell_type": "markdown",
   "id": "dca5a1b6-4fe1-44ca-8a81-f0e1ecd4a5f1",
   "metadata": {},
   "source": [
    "Flask is a micro web framework written in Python. It is designed to be lightweight, flexible, and easy to use. Flask provides developers with a set of tools and libraries for building web applications, without imposing any particular way of doing things. This makes it a popular choice for developing small to medium-sized web applications.\n",
    "\n",
    "Some of the advantages of using Flask framework are:\n",
    "\n",
    "Lightweight and flexible: Flask is designed to be minimalistic and modular. It provides developers with only the bare essentials needed to build a web application, while allowing them to add additional functionality as needed.\n",
    "\n",
    "Easy to learn and use: Flask has a simple and intuitive API that is easy for developers to learn and use. It is also well documented, making it easy for developers to find answers to their questions.\n",
    "\n",
    "Built-in development server: Flask comes with a built-in development server that allows developers to quickly test and debug their applications without the need for a separate web server.\n",
    "\n",
    "Extensible: Flask can be extended with a wide range of third-party extensions, which can add additional functionality to the framework.\n",
    "\n",
    "Large community: Flask has a large and active community of developers, which means that there are a lot of resources and tools available to help developers build web applications with Flask.\n",
    "\n",
    "Support for testing: Flask provides built-in support for testing, which makes it easy for developers to write and run tests for their applications.\n",
    "\n",
    "Overall, Flask is a great choice for building web applications that require a simple and lightweight framework. Its flexibility and extensibility make it suitable for a wide range of use cases, from simple blogs and websites to more complex web applications.\n",
    "\n",
    "\n",
    "\n"
   ]
  },
  {
   "cell_type": "markdown",
   "id": "01a37efc-97b9-4e26-b40c-b63c59afd9a6",
   "metadata": {},
   "source": [
    "# Q2. Create a simple Flask application to display ‘Hello World!!’. Attach the screenshot of the output in Jupyter Notebook."
   ]
  },
  {
   "cell_type": "markdown",
   "id": "37923c3b-4a7c-4fa0-92a6-da2a2367598f",
   "metadata": {},
   "source": [
    "code ==\n",
    "from flask import Flask\n",
    "app = Flask(__name__)\n",
    "@app.route('/')\n",
    "def hello_world():\n",
    "    return \"Hello World\"\n",
    "if __name__ == \"__main__\" :\n",
    "    app.run(host=\"0.0.0.0\")"
   ]
  },
  {
   "cell_type": "markdown",
   "id": "8d4631e0-b24c-4241-8e4d-6dc61598d354",
   "metadata": {},
   "source": [
    "## Q3. What is App routing in Flask? Why do we use app routes?"
   ]
  },
  {
   "cell_type": "markdown",
   "id": "229033fe-17cf-4cde-b9b2-fd528c6fc2a7",
   "metadata": {},
   "source": [
    "In Flask, app routing refers to the process of mapping URLs to view functions. When a user visits a specific URL, Flask matches that URL to a particular view function, which generates the appropriate response.\n",
    "\n",
    "App routing is an important part of building web applications with Flask. It allows developers to define the different pages and endpoints of their web application, and specify what should happen when a user visits each of those pages or endpoints. This is done using the @app.route() decorator, which is used to associate a URL pattern with a view function.\n",
    "\n",
    "For example, here is a simple Flask app that defines two routes:"
   ]
  },
  {
   "cell_type": "code",
   "execution_count": 1,
   "id": "352fefa2-04e4-4ebc-8668-97e018680059",
   "metadata": {},
   "outputs": [
    {
     "name": "stdout",
     "output_type": "stream",
     "text": [
      "Collecting flask\n",
      "  Downloading flask-3.0.0-py3-none-any.whl (99 kB)\n",
      "\u001b[2K     \u001b[90m━━━━━━━━━━━━━━━━━━━━━━━━━━━━━━━━━━━━━━━━\u001b[0m \u001b[32m99.7/99.7 kB\u001b[0m \u001b[31m3.6 MB/s\u001b[0m eta \u001b[36m0:00:00\u001b[0m\n",
      "\u001b[?25hRequirement already satisfied: Jinja2>=3.1.2 in /opt/conda/lib/python3.10/site-packages (from flask) (3.1.2)\n",
      "Collecting Werkzeug>=3.0.0\n",
      "  Downloading werkzeug-3.0.1-py3-none-any.whl (226 kB)\n",
      "\u001b[2K     \u001b[90m━━━━━━━━━━━━━━━━━━━━━━━━━━━━━━━━━━━━━━\u001b[0m \u001b[32m226.7/226.7 kB\u001b[0m \u001b[31m23.2 MB/s\u001b[0m eta \u001b[36m0:00:00\u001b[0m\n",
      "\u001b[?25hCollecting itsdangerous>=2.1.2\n",
      "  Downloading itsdangerous-2.1.2-py3-none-any.whl (15 kB)\n",
      "Requirement already satisfied: click>=8.1.3 in /opt/conda/lib/python3.10/site-packages (from flask) (8.1.3)\n",
      "Collecting blinker>=1.6.2\n",
      "  Downloading blinker-1.7.0-py3-none-any.whl (13 kB)\n",
      "Requirement already satisfied: MarkupSafe>=2.0 in /opt/conda/lib/python3.10/site-packages (from Jinja2>=3.1.2->flask) (2.1.1)\n",
      "Installing collected packages: Werkzeug, itsdangerous, blinker, flask\n",
      "  Attempting uninstall: blinker\n",
      "    Found existing installation: blinker 1.5\n",
      "    Uninstalling blinker-1.5:\n",
      "      Successfully uninstalled blinker-1.5\n",
      "Successfully installed Werkzeug-3.0.1 blinker-1.7.0 flask-3.0.0 itsdangerous-2.1.2\n",
      " * Serving Flask app '__main__'\n",
      " * Debug mode: off\n"
     ]
    },
    {
     "name": "stderr",
     "output_type": "stream",
     "text": [
      "WARNING: This is a development server. Do not use it in a production deployment. Use a production WSGI server instead.\n",
      " * Running on http://127.0.0.1:5000\n",
      "Press CTRL+C to quit\n"
     ]
    }
   ],
   "source": [
    "!pip install flask\n",
    "from flask import Flask\n",
    "\n",
    "app = Flask(__name__)\n",
    "\n",
    "@app.route('/')\n",
    "def index():\n",
    "    return 'This is the homepage'\n",
    "\n",
    "@app.route('/about')\n",
    "def about():\n",
    "    return 'This is the about page'\n",
    "\n",
    "if __name__ == '__main__':\n",
    "    app.run()\n"
   ]
  },
  {
   "cell_type": "markdown",
   "id": "e13e4099-1623-4e70-8106-55a6688ae6ae",
   "metadata": {},
   "source": [
    "In this example, the @app.route('/') decorator is used to associate the root URL with the index() function, and the @app.route('/about') decorator is used to associate the /about URL with the about() function.\n",
    "\n",
    "App routing is important because it allows developers to create clean and organized URLs for their web applications, making it easier for users to navigate and understand the structure of the application. Additionally, it allows developers to separate the different parts of their application into smaller, more manageable functions, which can make the code easier to maintain and update over time."
   ]
  },
  {
   "cell_type": "markdown",
   "id": "d60ffcc5-8fdf-459c-a3ef-2438ac9a963f",
   "metadata": {},
   "source": [
    "# Q4. Create a “/welcome” route to display the welcome message “Welcome to ABC Corporation” and a “/”    route to show the following details:                                                                   Company Name: ABC Corporation                                                                        Location: India                                                                                        Contact Detail: 999-999-9999"
   ]
  },
  {
   "cell_type": "code",
   "execution_count": null,
   "id": "d870b44f-d342-4fee-a40a-50fd4906446c",
   "metadata": {},
   "outputs": [
    {
     "name": "stdout",
     "output_type": "stream",
     "text": [
      " * Serving Flask app '__main__'\n",
      " * Debug mode: off\n"
     ]
    },
    {
     "name": "stderr",
     "output_type": "stream",
     "text": [
      "WARNING: This is a development server. Do not use it in a production deployment. Use a production WSGI server instead.\n",
      " * Running on all addresses (0.0.0.0)\n",
      " * Running on http://127.0.0.1:5000\n",
      " * Running on http://172.18.0.5:5000\n",
      "Press CTRL+C to quit\n"
     ]
    }
   ],
   "source": [
    "from flask import Flask\n",
    "app = Flask(__name__)\n",
    "@app.route(\"/wellcome\")\n",
    "def wellcome():\n",
    "    return \"Wellcome to ABC Corporation\"\n",
    "@app.route(\"/\")\n",
    "def details():\n",
    "    return \"Company Name = ABC Corporation /n Location = India /n Contact Deatils = 999-999-999\"\n",
    "if __name__ == \"__main__\":\n",
    "    app.run(host=\"0.0.0.0\")"
   ]
  },
  {
   "cell_type": "markdown",
   "id": "1d7a5979-52d0-419b-9b63-5280addda959",
   "metadata": {},
   "source": [
    "# Q5. What function is used in Flask for URL Building? Write a Python code to demonstrate the working of the url_for() function."
   ]
  },
  {
   "cell_type": "markdown",
   "id": "9c44931e-05e7-41a9-b059-7c85808280a6",
   "metadata": {},
   "source": [
    "In Flask, the url_for() function is used for URL building. This function generates a URL to the specified endpoint, taking into account any arguments that are passed to it.\n",
    "\n",
    "Here's an example Python code to demonstrate the working of the url_for() function in Flask:"
   ]
  },
  {
   "cell_type": "markdown",
   "id": "9ad9e8b8-ef09-4c97-ba48-78196fa384bc",
   "metadata": {},
   "source": [
    "from flask import Flask, url_for\n",
    "\n",
    "app = Flask(__name__)\n",
    "\n",
    "@app.route('/')\n",
    "def index():\n",
    "    return 'Welcome to my Flask app!'\n",
    "\n",
    "@app.route('/about')\n",
    "def about():\n",
    "    return 'This is the about page!'\n",
    "\n",
    "@app.route('/user/<username>')\n",
    "def user_profile(username):\n",
    "    return f'This is the profile page for {username}'\n",
    "\n",
    "with app.test_request_context():\n",
    "    print(url_for('index')) # Output: '/'\n",
    "    print(url_for('about')) # Output: '/about'\n",
    "    print(url_for('user_profile', username='JohnDoe')) # Output: '/user/JohnDoe'\n"
   ]
  },
  {
   "cell_type": "markdown",
   "id": "a9d5fd9b-c6af-419a-8ea0-7da73b49e983",
   "metadata": {},
   "source": [
    "In the above example, we have defined three routes - index, about, and user_profile. The url_for() function is used to generate URLs for each of these routes.\n",
    "\n",
    "When called with the argument 'index', url_for() returns '/', which is the URL for the index route. When called with the argument 'about', url_for() returns '/about', which is the URL for the about route.\n",
    "\n",
    "Finally, when called with the argument 'user_profile' and the username argument set to 'JohnDoe', url_for() returns '/user/JohnDoe', which is the URL for the user_profile route with the username parameter set to 'JohnDoe'.\n",
    "\n",
    "Note that the with app.test_request_context(): block is used to create a test request context for the url_for() function, which is required for it to work properly"
   ]
  },
  {
   "cell_type": "code",
   "execution_count": null,
   "id": "4af07ce3-b3a3-4004-94d0-6d3082f8d3b4",
   "metadata": {},
   "outputs": [],
   "source": []
  }
 ],
 "metadata": {
  "kernelspec": {
   "display_name": "Python 3 (ipykernel)",
   "language": "python",
   "name": "python3"
  },
  "language_info": {
   "codemirror_mode": {
    "name": "ipython",
    "version": 3
   },
   "file_extension": ".py",
   "mimetype": "text/x-python",
   "name": "python",
   "nbconvert_exporter": "python",
   "pygments_lexer": "ipython3",
   "version": "3.10.8"
  }
 },
 "nbformat": 4,
 "nbformat_minor": 5
}

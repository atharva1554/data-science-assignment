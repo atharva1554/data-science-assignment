{
 "cells": [
  {
   "cell_type": "markdown",
   "id": "9fb03f7c-04de-440a-8fd6-79da759ec10f",
   "metadata": {},
   "source": [
    "Q1. Create a python program to sort the given list of tuples based on integer value using a\n",
    "lambda function.\n",
    "[('Sachin Tendulkar', 34357), ('Ricky Ponting', 27483), ('Jack Kallis', 25534), ('Virat Kohli', 24936)]"
   ]
  },
  {
   "cell_type": "markdown",
   "id": "d4cc5bcd-7eae-46f4-8984-0e0f6f7486f9",
   "metadata": {},
   "source": [
    "##### Ans1:"
   ]
  },
  {
   "cell_type": "code",
   "execution_count": 1,
   "id": "fc3d76be-5211-4d11-ae29-b6b966c22ef5",
   "metadata": {},
   "outputs": [],
   "source": [
    "lst=[('Sachin Tendulkar', 34357), ('Ricky Ponting', 27483), ('Jack Kallis', 25534), ('Virat Kohli', 24936)]"
   ]
  },
  {
   "cell_type": "code",
   "execution_count": 2,
   "id": "d8bda1cd-b92b-49dc-a388-cfc899331e38",
   "metadata": {},
   "outputs": [],
   "source": [
    "lst.sort(key=lambda x:x[1])"
   ]
  },
  {
   "cell_type": "code",
   "execution_count": 3,
   "id": "51d70cab-fbf0-4b30-a7af-d5cb55cdcd59",
   "metadata": {},
   "outputs": [
    {
     "data": {
      "text/plain": [
       "[('Virat Kohli', 24936),\n",
       " ('Jack Kallis', 25534),\n",
       " ('Ricky Ponting', 27483),\n",
       " ('Sachin Tendulkar', 34357)]"
      ]
     },
     "execution_count": 3,
     "metadata": {},
     "output_type": "execute_result"
    }
   ],
   "source": [
    "lst"
   ]
  },
  {
   "cell_type": "markdown",
   "id": "465fb61f-b1b3-4b64-9e1e-292da35d3495",
   "metadata": {},
   "source": [
    "Q2. Write a Python Program to find the squares of all the numbers in the given list of integers using\n",
    "lambda and map functions.\n",
    "[1, 2, 3, 4, 5, 6, 7, 8, 9, 10]"
   ]
  },
  {
   "cell_type": "markdown",
   "id": "636ad4bb-8ddd-47a0-b290-3ad79a460e54",
   "metadata": {},
   "source": [
    "##### Ans2:"
   ]
  },
  {
   "cell_type": "code",
   "execution_count": 4,
   "id": "e7d0ff20-1a82-4768-bde6-5e455cc4393d",
   "metadata": {},
   "outputs": [],
   "source": [
    "l=[1, 2, 3, 4, 5, 6, 7, 8, 9, 10]"
   ]
  },
  {
   "cell_type": "code",
   "execution_count": 5,
   "id": "bf41d87e-5e53-4fd7-9069-c0a0476228bd",
   "metadata": {},
   "outputs": [
    {
     "data": {
      "text/plain": [
       "[1, 4, 9, 16, 25, 36, 49, 64, 81, 100]"
      ]
     },
     "execution_count": 5,
     "metadata": {},
     "output_type": "execute_result"
    }
   ],
   "source": [
    "list(map(lambda x:x**2,l))"
   ]
  },
  {
   "cell_type": "markdown",
   "id": "2a92a23a-09d5-43de-8057-e5fcaf7a06de",
   "metadata": {},
   "source": [
    "Q3. Write a python program to convert the given list of integers into a tuple of strings. Use map and\n",
    "lambda functions\n",
    "Given String: [1, 2, 3, 4, 5, 6, 7, 8, 9, 10]\n",
    "Expected output: ('1', '2', '3', '4', '5', '6', '7', '8', '9', '10')"
   ]
  },
  {
   "cell_type": "markdown",
   "id": "d9557d34-a558-48e9-be6a-dad9c21c24db",
   "metadata": {},
   "source": [
    "##### Ans3: "
   ]
  },
  {
   "cell_type": "code",
   "execution_count": 6,
   "id": "2ca3c106-76bf-4b4f-a54e-166202edbabc",
   "metadata": {},
   "outputs": [],
   "source": [
    "s=[1, 2, 3, 4, 5, 6, 7, 8, 9, 10]"
   ]
  },
  {
   "cell_type": "code",
   "execution_count": 7,
   "id": "15d00270-562a-4809-ac44-43b331002cda",
   "metadata": {},
   "outputs": [
    {
     "data": {
      "text/plain": [
       "('1', '2', '3', '4', '5', '6', '7', '8', '9', '10')"
      ]
     },
     "execution_count": 7,
     "metadata": {},
     "output_type": "execute_result"
    }
   ],
   "source": [
    "tuple(map(lambda x:str(x),s))"
   ]
  },
  {
   "cell_type": "markdown",
   "id": "eab9a00e-f387-4ecc-8989-91d89a4c9ac9",
   "metadata": {},
   "source": [
    "Q4. Write a python program using reduce function to compute the product of a list containing numbers\n",
    "from 1 to 25.\n"
   ]
  },
  {
   "cell_type": "markdown",
   "id": "2d1f1d38-f511-4810-bbd7-7bd47e16269e",
   "metadata": {},
   "source": [
    "##### Ans4: "
   ]
  },
  {
   "cell_type": "code",
   "execution_count": 8,
   "id": "38f6f940-f30b-48a6-9155-f7473631b1e0",
   "metadata": {},
   "outputs": [],
   "source": [
    "A=[]\n",
    "for i in range(1,26):\n",
    "    A.append(i)"
   ]
  },
  {
   "cell_type": "code",
   "execution_count": 9,
   "id": "9a02a155-6384-4163-9e1b-eaaf5563b651",
   "metadata": {},
   "outputs": [
    {
     "data": {
      "text/plain": [
       "15511210043330985984000000"
      ]
     },
     "execution_count": 9,
     "metadata": {},
     "output_type": "execute_result"
    }
   ],
   "source": [
    "from functools import reduce\n",
    "reduce(lambda x,y:x*y,A)"
   ]
  },
  {
   "cell_type": "markdown",
   "id": "4ebfc825-fa22-483d-b6d0-921a2cfdba0a",
   "metadata": {},
   "source": [
    "Q5. Write a python program to filter the numbers in a given list that are divisible by 2 and 3 using the\n",
    "filter function.\n",
    "[2, 3, 6, 9, 27, 60, 90, 120, 55, 46]"
   ]
  },
  {
   "cell_type": "markdown",
   "id": "1641175c-5177-4ce5-9149-bb79c9daa16e",
   "metadata": {},
   "source": [
    "##### Ans5:"
   ]
  },
  {
   "cell_type": "code",
   "execution_count": 10,
   "id": "2525ea2d-10f8-45d6-bd57-8d57dd2d6fed",
   "metadata": {},
   "outputs": [],
   "source": [
    "lst2=[2, 3, 6, 9, 27, 60, 90, 120, 55, 46]"
   ]
  },
  {
   "cell_type": "code",
   "execution_count": 11,
   "id": "5e5b37b0-8858-4809-aa61-da39ec9a4398",
   "metadata": {},
   "outputs": [
    {
     "data": {
      "text/plain": [
       "[6, 60, 90, 120]"
      ]
     },
     "execution_count": 11,
     "metadata": {},
     "output_type": "execute_result"
    }
   ],
   "source": [
    "list(filter(lambda x:x%6==0,lst2))"
   ]
  },
  {
   "cell_type": "markdown",
   "id": "54c26065-45fc-4041-935a-e415775514d7",
   "metadata": {},
   "source": [
    "Q6. Write a python program to find palindromes in the given list of strings using lambda and filter\n",
    "function.\n",
    "['python', 'php', 'aba', 'radar', 'level']"
   ]
  },
  {
   "cell_type": "code",
   "execution_count": 12,
   "id": "cef15c64-c172-439a-87ab-556f998f94eb",
   "metadata": {},
   "outputs": [],
   "source": [
    "lst3=['python', 'php', 'aba', 'radar', 'level']"
   ]
  },
  {
   "cell_type": "code",
   "execution_count": 13,
   "id": "b55f3270-fc59-4025-a7ad-8ac852144f27",
   "metadata": {},
   "outputs": [
    {
     "data": {
      "text/plain": [
       "['php', 'aba', 'radar', 'level']"
      ]
     },
     "execution_count": 13,
     "metadata": {},
     "output_type": "execute_result"
    }
   ],
   "source": [
    "list(filter(lambda x:x==x[-1::-1],lst3))"
   ]
  },
  {
   "cell_type": "code",
   "execution_count": null,
   "id": "347510c0-90e6-4cb6-a8bc-764985f0357d",
   "metadata": {},
   "outputs": [],
   "source": []
  }
 ],
 "metadata": {
  "kernelspec": {
   "display_name": "Python 3 (ipykernel)",
   "language": "python",
   "name": "python3"
  },
  "language_info": {
   "codemirror_mode": {
    "name": "ipython",
    "version": 3
   },
   "file_extension": ".py",
   "mimetype": "text/x-python",
   "name": "python",
   "nbconvert_exporter": "python",
   "pygments_lexer": "ipython3",
   "version": "3.10.8"
  }
 },
 "nbformat": 4,
 "nbformat_minor": 5
}

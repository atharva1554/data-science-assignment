{
 "cells": [
  {
   "cell_type": "markdown",
   "id": "281ff57a-a72a-4975-ba16-a128b3dd5f76",
   "metadata": {},
   "source": [
    "Q1. What are the characteristics of the tuples? Is tuple immutable?\n",
    "1.Tuples are used to store multiple items in a single variable.\n",
    "2.Tuples are written with round brackets.\n",
    "3.Tuples are immutable"
   ]
  },
  {
   "cell_type": "markdown",
   "id": "41170c58-a949-4438-b5bf-b0d4c1734744",
   "metadata": {},
   "source": [
    "Q2. What are the two tuple methods in python? Give an example of each method. Give a reason why\n",
    "tuples have only two in-built methods as compared to Lists.\n",
    "->The two tuple methods in python are : 1.count 2.index"
   ]
  },
  {
   "cell_type": "code",
   "execution_count": 1,
   "id": "b6c2ed5c-e957-4a7a-99ab-76c76227c4cb",
   "metadata": {},
   "outputs": [],
   "source": [
    "A=(1,2,4,22,1)"
   ]
  },
  {
   "cell_type": "code",
   "execution_count": 2,
   "id": "66274340-3098-4e0c-bce5-f169812ec61e",
   "metadata": {},
   "outputs": [
    {
     "data": {
      "text/plain": [
       "2"
      ]
     },
     "execution_count": 2,
     "metadata": {},
     "output_type": "execute_result"
    }
   ],
   "source": [
    "A.count(1)"
   ]
  },
  {
   "cell_type": "code",
   "execution_count": 3,
   "id": "c01e5ac5-62cc-4344-b14e-869efd39c8a8",
   "metadata": {},
   "outputs": [
    {
     "data": {
      "text/plain": [
       "0"
      ]
     },
     "execution_count": 3,
     "metadata": {},
     "output_type": "execute_result"
    }
   ],
   "source": [
    "A.index(1)"
   ]
  },
  {
   "cell_type": "markdown",
   "id": "1a193a10-1cc2-4531-80e2-feb4baac0ccb",
   "metadata": {},
   "source": [
    "In Python ,methods that add items or remove items are not available with tuple. As once the items are assigned they cannot be changed."
   ]
  },
  {
   "cell_type": "markdown",
   "id": "3432c657-51e6-4ff6-9b98-f92ebe9d749b",
   "metadata": {},
   "source": [
    "Q3.  Which collection datatypes in python do not allow duplicate items? Write a code using a set to remove\n",
    "duplicates from the given list.\n",
    "\n",
    "\n",
    "List = [1, 1, 1, 2, 1, 3, 1, 4, 2, 1, 2, 2, 2, 3, 2, 4, 3, 1, 3, 2, 3, 3, 3, 4, 4, 1, 4, 2, 4, 3, 4, 4]"
   ]
  },
  {
   "cell_type": "code",
   "execution_count": 4,
   "id": "664ee740-a57a-411f-bb39-079f73e7b5eb",
   "metadata": {},
   "outputs": [],
   "source": [
    "#Set is the datatype in Python which do not allow duplicate items.\n",
    "List = [1, 1, 1, 2, 1, 3, 1, 4, 2, 1, 2, 2, 2, 3, 2, 4, 3, 1, 3, 2, 3, 3, 3, 4, 4, 1, 4, 2, 4, 3, 4, 4]\n",
    "List=list(set(List))"
   ]
  },
  {
   "cell_type": "code",
   "execution_count": 5,
   "id": "28cb5b65-2b58-4125-b278-16f26112ff90",
   "metadata": {},
   "outputs": [
    {
     "data": {
      "text/plain": [
       "[1, 2, 3, 4]"
      ]
     },
     "execution_count": 5,
     "metadata": {},
     "output_type": "execute_result"
    }
   ],
   "source": [
    "List"
   ]
  },
  {
   "cell_type": "raw",
   "id": "aea0886f-04f3-4975-9f77-3dc449075517",
   "metadata": {},
   "source": [
    "Q4. Explain the difference between the union() and update() methods for a set. Give an example of\n",
    "each method."
   ]
  },
  {
   "cell_type": "code",
   "execution_count": 6,
   "id": "a742f284-5499-42a0-ae92-cd74c6e71a73",
   "metadata": {},
   "outputs": [],
   "source": [
    "A={1,5,2,6}\n",
    "B={2,45,1,2}"
   ]
  },
  {
   "cell_type": "code",
   "execution_count": 7,
   "id": "12b5cb37-40ff-4432-98ab-cebf4e765e6a",
   "metadata": {},
   "outputs": [
    {
     "data": {
      "text/plain": [
       "{1, 2, 5, 6, 45}"
      ]
     },
     "execution_count": 7,
     "metadata": {},
     "output_type": "execute_result"
    }
   ],
   "source": [
    "A.union(B)\n"
   ]
  },
  {
   "cell_type": "code",
   "execution_count": 8,
   "id": "1fb7a321-b04b-45a1-a4d2-6290637f1cf6",
   "metadata": {},
   "outputs": [
    {
     "data": {
      "text/plain": [
       "{1, 2, 5, 6}"
      ]
     },
     "execution_count": 8,
     "metadata": {},
     "output_type": "execute_result"
    }
   ],
   "source": [
    "A"
   ]
  },
  {
   "cell_type": "code",
   "execution_count": 15,
   "id": "b55ece3b-8959-4b7c-81fd-56463abc3254",
   "metadata": {},
   "outputs": [],
   "source": [
    "A.update(B)"
   ]
  },
  {
   "cell_type": "code",
   "execution_count": 16,
   "id": "9006971e-b7ce-435e-af9d-ca4afa13c9dc",
   "metadata": {},
   "outputs": [
    {
     "data": {
      "text/plain": [
       "{1, 2, 5, 6, 45}"
      ]
     },
     "execution_count": 16,
     "metadata": {},
     "output_type": "execute_result"
    }
   ],
   "source": [
    "A"
   ]
  },
  {
   "cell_type": "raw",
   "id": "0050b55d-0923-4922-81bc-69c63a997fb6",
   "metadata": {},
   "source": [
    "So in case of union it returns a another set in which values of both set are present.\n",
    "But in case of update it updates the existing set. So here A is updated and value B are added in A."
   ]
  },
  {
   "cell_type": "raw",
   "id": "358bd67a-9040-4f66-a7c1-2b54331539c7",
   "metadata": {},
   "source": [
    "Q5. What is a dictionary? Give an example. Also, state whether a dictionary is ordered or unordered."
   ]
  },
  {
   "cell_type": "code",
   "execution_count": 18,
   "id": "e325c868-0c28-429b-85ef-91f24a269795",
   "metadata": {},
   "outputs": [],
   "source": [
    "# Dictionaries are collections of items that have a “key” and a “value”.\n",
    "d={\"name\":\"Vishal\",\"Age\":20}"
   ]
  },
  {
   "cell_type": "code",
   "execution_count": 19,
   "id": "c9c73185-e46c-49a6-b3f7-cb34f0abab03",
   "metadata": {},
   "outputs": [
    {
     "data": {
      "text/plain": [
       "{'name': 'Vishal', 'Age': 20}"
      ]
     },
     "execution_count": 19,
     "metadata": {},
     "output_type": "execute_result"
    }
   ],
   "source": [
    "d"
   ]
  },
  {
   "cell_type": "raw",
   "id": "43e35db5-83ac-4ed2-8fed-ec616d18a0df",
   "metadata": {},
   "source": [
    "Dictionaries are unordered, so the order that the keys are added doesn’t\n",
    "necessarily reflect what order they may be reported back."
   ]
  },
  {
   "cell_type": "raw",
   "id": "f6151ef0-3fe2-4eb2-b7f0-c511bb5b84bb",
   "metadata": {},
   "source": [
    "Q6. Can we create a nested dictionary? If so, please give an example by creating a simple one-level\n",
    "nested dictionary."
   ]
  },
  {
   "cell_type": "code",
   "execution_count": 20,
   "id": "efdb4aa7-f441-4e35-9bf5-7bd7b45cc762",
   "metadata": {},
   "outputs": [],
   "source": [
    "# Yes we can create a nested dictionary.\n",
    "d1={\"key\":{\"key1\":\"value1\"}}"
   ]
  },
  {
   "cell_type": "code",
   "execution_count": 21,
   "id": "f59ae3c8-4f42-48cc-9683-b5605146d869",
   "metadata": {},
   "outputs": [
    {
     "data": {
      "text/plain": [
       "{'key': {'key1': 'value1'}}"
      ]
     },
     "execution_count": 21,
     "metadata": {},
     "output_type": "execute_result"
    }
   ],
   "source": [
    "d1"
   ]
  },
  {
   "cell_type": "markdown",
   "id": "21dc2272-05ce-4dd0-82eb-c88f02d78a2b",
   "metadata": {},
   "source": [
    "Q7. Using setdefault() method, create key named topics in the given dictionary and also add the value of\n",
    "the key as this list  ['Python','Machine Learning','Deep Learning']\n",
    "\n",
    "\n",
    "dict1 = {'language' : 'Python', 'course': 'Data Science Masters'}\n"
   ]
  },
  {
   "cell_type": "code",
   "execution_count": 22,
   "id": "cbdb3258-ebd9-465d-8865-b0509087afd2",
   "metadata": {},
   "outputs": [],
   "source": [
    "dict1 = {'language' : 'Python', 'course': 'Data Science Masters'}"
   ]
  },
  {
   "cell_type": "code",
   "execution_count": 24,
   "id": "f2b907fe-fc89-4e68-9a9a-c9c2a9777f8a",
   "metadata": {},
   "outputs": [
    {
     "data": {
      "text/plain": [
       "['Python', 'Machine Learning', 'Deep Learning']"
      ]
     },
     "execution_count": 24,
     "metadata": {},
     "output_type": "execute_result"
    }
   ],
   "source": [
    "dict1.setdefault(\"topics\",['Python','Machine Learning','Deep Learning'])"
   ]
  },
  {
   "cell_type": "code",
   "execution_count": 25,
   "id": "2b867890-9dc4-41b2-a09f-bbd1071acc9a",
   "metadata": {},
   "outputs": [
    {
     "data": {
      "text/plain": [
       "{'language': 'Python',\n",
       " 'course': 'Data Science Masters',\n",
       " 'topics': ['Python', 'Machine Learning', 'Deep Learning']}"
      ]
     },
     "execution_count": 25,
     "metadata": {},
     "output_type": "execute_result"
    }
   ],
   "source": [
    "dict1"
   ]
  },
  {
   "cell_type": "raw",
   "id": "29a76b6a-eac7-4a60-b954-a422e7611aac",
   "metadata": {},
   "source": [
    "Q8. What are the three view objects in dictionaries? Use the three in-built methods in python to display\n",
    "these three view objects for the given dictionary.\n",
    "\n",
    "\n",
    "dict1 = {'Sport': 'Cricket' , 'Teams': ['India', 'Australia', 'England', 'South Africa', 'Sri Lanka', 'New Zealand']}"
   ]
  },
  {
   "cell_type": "raw",
   "id": "9dc2c6c5-048d-497f-89fb-b89c231eb330",
   "metadata": {},
   "source": [
    "The three view objects are:\n",
    "1.keys\n",
    "2.values\n",
    "3.items(key,value)"
   ]
  },
  {
   "cell_type": "code",
   "execution_count": 30,
   "id": "5c087cf6-3182-4bcf-96e8-cdcd67891616",
   "metadata": {},
   "outputs": [],
   "source": [
    "dict1 = {'Sport': 'Cricket' , 'Teams': ['India', 'Australia', 'England', 'South Africa', 'Sri Lanka', 'New Zealand']}"
   ]
  },
  {
   "cell_type": "code",
   "execution_count": 27,
   "id": "72b6aed9-4c10-4059-bab3-5065b91165ba",
   "metadata": {},
   "outputs": [
    {
     "data": {
      "text/plain": [
       "dict_keys(['Sport', 'Teams'])"
      ]
     },
     "execution_count": 27,
     "metadata": {},
     "output_type": "execute_result"
    }
   ],
   "source": [
    "dict1.keys()"
   ]
  },
  {
   "cell_type": "code",
   "execution_count": 28,
   "id": "50a529b8-d195-4926-b741-77538d0c9692",
   "metadata": {},
   "outputs": [
    {
     "data": {
      "text/plain": [
       "dict_values(['Cricket', ['India', 'Australia', 'England', 'South Africa', 'Sri Lanka', 'New Zealand']])"
      ]
     },
     "execution_count": 28,
     "metadata": {},
     "output_type": "execute_result"
    }
   ],
   "source": [
    "dict1.values()"
   ]
  },
  {
   "cell_type": "code",
   "execution_count": 29,
   "id": "881ca2ec-a89d-4c34-8e33-71bf381a0576",
   "metadata": {},
   "outputs": [
    {
     "data": {
      "text/plain": [
       "dict_items([('Sport', 'Cricket'), ('Teams', ['India', 'Australia', 'England', 'South Africa', 'Sri Lanka', 'New Zealand'])])"
      ]
     },
     "execution_count": 29,
     "metadata": {},
     "output_type": "execute_result"
    }
   ],
   "source": [
    "dict1.items()"
   ]
  },
  {
   "cell_type": "code",
   "execution_count": null,
   "id": "ee3c2ae2-a3e0-45db-96a3-f562a8ea03c9",
   "metadata": {},
   "outputs": [],
   "source": []
  }
 ],
 "metadata": {
  "kernelspec": {
   "display_name": "Python 3 (ipykernel)",
   "language": "python",
   "name": "python3"
  },
  "language_info": {
   "codemirror_mode": {
    "name": "ipython",
    "version": 3
   },
   "file_extension": ".py",
   "mimetype": "text/x-python",
   "name": "python",
   "nbconvert_exporter": "python",
   "pygments_lexer": "ipython3",
   "version": "3.10.8"
  }
 },
 "nbformat": 4,
 "nbformat_minor": 5
}

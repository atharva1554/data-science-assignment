{
 "cells": [
  {
   "cell_type": "markdown",
   "id": "59deaf3b-aaa4-4876-be68-cb56cdfac75f",
   "metadata": {},
   "source": [
    "Q1. You are writing code for a company. The requirement of the company is that you create a python\n",
    "function that will check whether the password entered by the user is correct or not. The function should\n",
    "take the password as input and return the string “Valid Password” if the entered password follows the\n",
    "below-given password guidelines else it should return “Invalid Password”.\n",
    "Note: 1. The Password should contain at least two uppercase letters and at least two lowercase letters.\n",
    "2. The Password should contain at least a number and three special characters.\n",
    "3. The length of the password should be 10 characters long."
   ]
  },
  {
   "cell_type": "code",
   "execution_count": 1,
   "id": "75070401-0ee8-4fbb-9659-b5e1db694ad2",
   "metadata": {},
   "outputs": [],
   "source": [
    "def password(s):\n",
    "    if(len(s)<10):\n",
    "        return \"Invalid Password\"\n",
    "    a=b=c=d=0\n",
    "    for i in s:\n",
    "        if i.isupper() :\n",
    "            a=a+1\n",
    "        elif i.islower():\n",
    "            b=b+1\n",
    "        elif i.isdigit():\n",
    "            c=c+1\n",
    "        elif i==\" \":\n",
    "            return \"Invalid Password\"\n",
    "        else:\n",
    "            d=d+1\n",
    "    if(a>=2 and b>=2 and c>=1 and d>=3):\n",
    "        return \"Valid Password\"\n",
    "    else:\n",
    "        return \"Invalid Password\"\n",
    "    "
   ]
  },
  {
   "cell_type": "code",
   "execution_count": 2,
   "id": "6924e528-cf77-4208-8d1a-1f5a8e70e311",
   "metadata": {},
   "outputs": [
    {
     "data": {
      "text/plain": [
       "'Invalid Password'"
      ]
     },
     "execution_count": 2,
     "metadata": {},
     "output_type": "execute_result"
    }
   ],
   "source": [
    "password(\"vishal@123\")"
   ]
  },
  {
   "cell_type": "code",
   "execution_count": 3,
   "id": "16f9186a-59ba-477a-bab9-3b2613384b0f",
   "metadata": {},
   "outputs": [
    {
     "data": {
      "text/plain": [
       "'Valid Password'"
      ]
     },
     "execution_count": 3,
     "metadata": {},
     "output_type": "execute_result"
    }
   ],
   "source": [
    "password(\"vis@#$123AB\")"
   ]
  },
  {
   "cell_type": "markdown",
   "id": "13f05824-a7de-4b00-9841-75429ac043f3",
   "metadata": {},
   "source": [
    "Q2. Solve the below-given questions using at least one of the following:\n",
    "1. Lambda functioJ\n",
    "2. Filter functioJ\n",
    "3. Zap functioJ\n",
    "4. List ComprehensioI\n",
    "B Check if the string starts with a particular letterY\n",
    "B Check if the string is numericY\n",
    "B Sort a list of tuples having fruit names and their quantity. [(\"mango\",99),(\"orange\",80), (\"grapes\", 1000)-\n",
    "B Find the squares of numbers from 1 to 10Y\n",
    "B Find the cube root of numbers from 1 to 10Y\n",
    "B Check if a given number is evenY\n",
    "B Filter odd numbers from the given list.\n",
    "[1,2,3,4,5,6,7,8,9,10-\n",
    "B Sort a list of integers into positive and negative integers lists.\n",
    "[1,2,3,4,5,6,-1,-2,-3,-4,-5,0]"
   ]
  },
  {
   "cell_type": "code",
   "execution_count": 4,
   "id": "4ee06e05-1b1c-46f6-8167-a6db32487ec7",
   "metadata": {},
   "outputs": [],
   "source": [
    "#1. Check if the string starts with a particular letter\n",
    "a=lambda s,a:1 if s[0]==a  else 0"
   ]
  },
  {
   "cell_type": "code",
   "execution_count": 5,
   "id": "a8434f5f-bf09-47c6-8572-a7d565fc9b58",
   "metadata": {},
   "outputs": [
    {
     "data": {
      "text/plain": [
       "1"
      ]
     },
     "execution_count": 5,
     "metadata": {},
     "output_type": "execute_result"
    }
   ],
   "source": [
    "a(\"vishal\",'v')"
   ]
  },
  {
   "cell_type": "code",
   "execution_count": 6,
   "id": "1fda49e3-873c-4830-85e9-bb6f3a2d5dac",
   "metadata": {},
   "outputs": [],
   "source": [
    "#2. Check if the string is numeric\n",
    "e=lambda s:\"String is numeric\" if s.isdigit() else \"String is not numeric\""
   ]
  },
  {
   "cell_type": "code",
   "execution_count": 7,
   "id": "7546301a-389e-49de-a3ba-1a7688928f33",
   "metadata": {},
   "outputs": [
    {
     "data": {
      "text/plain": [
       "'String is numeric'"
      ]
     },
     "execution_count": 7,
     "metadata": {},
     "output_type": "execute_result"
    }
   ],
   "source": [
    "e(\"30221\")"
   ]
  },
  {
   "cell_type": "code",
   "execution_count": 8,
   "id": "00f68ee7-2b7d-4df0-b7cb-c04cff86a44d",
   "metadata": {},
   "outputs": [],
   "source": [
    "#3. Sort a list of tuples having fruit names and their quantity. [(\"mango\",99),(\"orange\",80), (\"grapes\", 1000)]\n",
    "lst=[(\"mango\",99),(\"orange\",80), (\"grapes\", 1000)]"
   ]
  },
  {
   "cell_type": "code",
   "execution_count": 9,
   "id": "9bbd365b-718f-4db4-8dfa-191baac9c860",
   "metadata": {},
   "outputs": [],
   "source": [
    "lst.sort(key=lambda x:x[0])"
   ]
  },
  {
   "cell_type": "code",
   "execution_count": 10,
   "id": "acda1e57-1ffd-4eef-9eac-7b7737843d27",
   "metadata": {},
   "outputs": [
    {
     "data": {
      "text/plain": [
       "[('grapes', 1000), ('mango', 99), ('orange', 80)]"
      ]
     },
     "execution_count": 10,
     "metadata": {},
     "output_type": "execute_result"
    }
   ],
   "source": [
    "lst #Sorted according to names"
   ]
  },
  {
   "cell_type": "code",
   "execution_count": 11,
   "id": "b0201a94-62ac-46be-8b72-92d78eebe65e",
   "metadata": {},
   "outputs": [],
   "source": [
    "#4. Find the squares of numbers from 1 to 10"
   ]
  },
  {
   "cell_type": "code",
   "execution_count": 12,
   "id": "fbc8665b-fa70-4e30-bc8c-21ae5d14460c",
   "metadata": {},
   "outputs": [],
   "source": [
    "A=[]\n",
    "for i in range(1,11):\n",
    "    A.append(i)"
   ]
  },
  {
   "cell_type": "code",
   "execution_count": 13,
   "id": "636ffe69-968b-469a-a75e-877937e78607",
   "metadata": {},
   "outputs": [
    {
     "data": {
      "text/plain": [
       "[1, 4, 9, 16, 25, 36, 49, 64, 81, 100]"
      ]
     },
     "execution_count": 13,
     "metadata": {},
     "output_type": "execute_result"
    }
   ],
   "source": [
    "list(map(lambda x:x**2,A))"
   ]
  },
  {
   "cell_type": "code",
   "execution_count": 14,
   "id": "69d30371-4778-407a-acb0-b08ebaaf5253",
   "metadata": {},
   "outputs": [],
   "source": [
    "#5. Find the cube root of numbers from 1 to 10"
   ]
  },
  {
   "cell_type": "code",
   "execution_count": 15,
   "id": "cc6db242-8096-43fa-bd59-750e4ab835c4",
   "metadata": {},
   "outputs": [
    {
     "data": {
      "text/plain": [
       "[1, 8, 27, 64, 125, 216, 343, 512, 729, 1000]"
      ]
     },
     "execution_count": 15,
     "metadata": {},
     "output_type": "execute_result"
    }
   ],
   "source": [
    "list(map(lambda x:x**3,A))"
   ]
  },
  {
   "cell_type": "raw",
   "id": "c75625dd-b1df-40df-b4c0-62c64b1af00d",
   "metadata": {},
   "source": [
    "6. Check if a given number is even"
   ]
  },
  {
   "cell_type": "code",
   "execution_count": 16,
   "id": "419dcc1e-132d-4fe1-8cb2-87b19e2fa397",
   "metadata": {},
   "outputs": [],
   "source": [
    "even=lambda x:\"even number\" if x%2==0 else \"odd number\""
   ]
  },
  {
   "cell_type": "code",
   "execution_count": 17,
   "id": "e804f972-f586-40b6-9ca0-bfc9ffea5557",
   "metadata": {},
   "outputs": [
    {
     "data": {
      "text/plain": [
       "'even number'"
      ]
     },
     "execution_count": 17,
     "metadata": {},
     "output_type": "execute_result"
    }
   ],
   "source": [
    "even(4)"
   ]
  },
  {
   "cell_type": "code",
   "execution_count": 18,
   "id": "cd4cc8f6-8014-4468-ae27-b5628ad47951",
   "metadata": {},
   "outputs": [
    {
     "data": {
      "text/plain": [
       "'odd number'"
      ]
     },
     "execution_count": 18,
     "metadata": {},
     "output_type": "execute_result"
    }
   ],
   "source": [
    "even(13)"
   ]
  },
  {
   "cell_type": "code",
   "execution_count": null,
   "id": "e0868406-9977-4338-b6ef-898ecd333542",
   "metadata": {},
   "outputs": [],
   "source": []
  }
 ],
 "metadata": {
  "kernelspec": {
   "display_name": "Python 3 (ipykernel)",
   "language": "python",
   "name": "python3"
  },
  "language_info": {
   "codemirror_mode": {
    "name": "ipython",
    "version": 3
   },
   "file_extension": ".py",
   "mimetype": "text/x-python",
   "name": "python",
   "nbconvert_exporter": "python",
   "pygments_lexer": "ipython3",
   "version": "3.10.8"
  }
 },
 "nbformat": 4,
 "nbformat_minor": 5
}

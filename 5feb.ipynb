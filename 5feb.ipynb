{
 "cells": [
  {
   "cell_type": "markdown",
   "id": "9bf04780-33c5-4be6-86b7-ed3a1171990f",
   "metadata": {},
   "source": [
    "Q1. Explain Class and Object with respect to Object-Oriented Programming. Give a suitable example."
   ]
  },
  {
   "cell_type": "markdown",
   "id": "0a71a5db-23df-499d-990a-523fe95716a0",
   "metadata": {},
   "source": [
    "##### Ans1: "
   ]
  },
  {
   "cell_type": "markdown",
   "id": "1e88499d-627e-472c-990a-037fb8df596a",
   "metadata": {},
   "source": [
    "Class are a blueprint or a set of instructions to build a specific type of object. It is a basic concept of Object-Oriented Programming which revolve around the real-life entities. Class determines how an object will behave and what the object will contain.\n",
    "\n",
    "Object is an instance of a class. An object in OOPS is nothing but a self-contained component which consists of methods and properties to make a particular type of data useful."
   ]
  },
  {
   "cell_type": "code",
   "execution_count": 1,
   "id": "7464bf57-312b-48b6-a70f-2ba07820ef44",
   "metadata": {},
   "outputs": [],
   "source": [
    "class demo:\n",
    "    def display(self):\n",
    "        print(\"Hello World!!\")"
   ]
  },
  {
   "cell_type": "code",
   "execution_count": 2,
   "id": "e7bd7cc2-78a2-4de3-b72b-76dab195f031",
   "metadata": {},
   "outputs": [
    {
     "name": "stdout",
     "output_type": "stream",
     "text": [
      "Hello World!!\n"
     ]
    }
   ],
   "source": [
    "d=demo()\n",
    "d.display()"
   ]
  },
  {
   "cell_type": "markdown",
   "id": "daddf925-40fd-4e06-a5b5-01aa402f2c05",
   "metadata": {},
   "source": [
    "Q2. Name the four pillars of OOPs."
   ]
  },
  {
   "cell_type": "markdown",
   "id": "5248c995-df01-45e0-bc6d-5ba8f61e7986",
   "metadata": {},
   "source": [
    "##### Ans2: "
   ]
  },
  {
   "cell_type": "markdown",
   "id": "325cb338-1ce3-4230-a90d-55635aca206f",
   "metadata": {},
   "source": [
    "1. Data abstraction\n",
    "2. Encapsulation\n",
    "3. Inheritance\n",
    "4. Polymorphism"
   ]
  },
  {
   "cell_type": "markdown",
   "id": "e2f00ba0-cfaf-40d2-8bf1-46ed4920f1cf",
   "metadata": {},
   "source": [
    "Q3. Explain why the __init__() function is used. Give a suitable example."
   ]
  },
  {
   "cell_type": "markdown",
   "id": "d2df6e26-33ec-4b52-a85e-d114002c3469",
   "metadata": {},
   "source": [
    "##### Ans3:"
   ]
  },
  {
   "cell_type": "markdown",
   "id": "2279aae0-86d4-4214-befe-6f897c5c63c8",
   "metadata": {},
   "source": [
    " __init__ is a special python method that runs whenever a new object is created. These types of functions are used to initialize the attributes of that class"
   ]
  },
  {
   "cell_type": "code",
   "execution_count": 3,
   "id": "edbce3c5-fd3a-44cf-8a22-d59ea5535dac",
   "metadata": {},
   "outputs": [],
   "source": [
    "class addition:\n",
    "    def __init__(self,a,b):\n",
    "        self.a=a\n",
    "        self.b=b\n",
    "    def display(self):\n",
    "        print(\"Addition: \",self.a+self.b)"
   ]
  },
  {
   "cell_type": "code",
   "execution_count": 4,
   "id": "b0843ce6-b693-49bb-8b89-a876055f44a6",
   "metadata": {},
   "outputs": [
    {
     "name": "stdout",
     "output_type": "stream",
     "text": [
      "Addition:  13\n"
     ]
    }
   ],
   "source": [
    "obj=addition(6,7)\n",
    "obj.display()"
   ]
  },
  {
   "cell_type": "markdown",
   "id": "5ab59447-680f-4f39-bd6b-36b2f73534ff",
   "metadata": {},
   "source": [
    "Q4. Why self is used in OOPs?"
   ]
  },
  {
   "cell_type": "markdown",
   "id": "67214b77-7855-4e30-976b-34c99a4b692d",
   "metadata": {},
   "source": [
    "##### Ans4:"
   ]
  },
  {
   "cell_type": "markdown",
   "id": "0e3119eb-a8d7-4bfc-abcc-58489c962f40",
   "metadata": {},
   "source": [
    "Self represents the instance of the class. By using the “self”  we can access the attributes and methods of the class in python. It binds the attributes with the given arguments."
   ]
  },
  {
   "cell_type": "markdown",
   "id": "84ec918e-b209-44a8-86b8-7a35cf82c7b5",
   "metadata": {},
   "source": [
    "Q5. What is inheritance? Give an example for each type of inheritance."
   ]
  },
  {
   "cell_type": "markdown",
   "id": "aa636f14-2063-4888-8f65-2b95a4b526c8",
   "metadata": {},
   "source": [
    "##### Ans5: "
   ]
  },
  {
   "cell_type": "markdown",
   "id": "800209aa-84a1-4dce-8a6c-09247a5e55dd",
   "metadata": {},
   "source": [
    "Inheritance allows us to define a class that inherits all the methods and properties from another class.\n",
    "Parent class is the class being inherited from, also called base class.\n",
    "Child class is the class that inherits from another class, also called derived class."
   ]
  },
  {
   "cell_type": "code",
   "execution_count": 12,
   "id": "f8119ba7-eccb-4ec1-a7be-1747303cab6e",
   "metadata": {},
   "outputs": [],
   "source": [
    "class base:\n",
    "    def display(self):\n",
    "        print(\"This is base class function\")\n",
    "class derived(base):\n",
    "    def display2(self):\n",
    "        print(\"This is derived class function\")"
   ]
  },
  {
   "cell_type": "code",
   "execution_count": 13,
   "id": "54c01185-f9c7-42e8-9744-7ee13fce2bf0",
   "metadata": {},
   "outputs": [],
   "source": [
    "base_obj=derived()"
   ]
  },
  {
   "cell_type": "code",
   "execution_count": 14,
   "id": "b9231832-30dc-4979-b580-478e3bf6170f",
   "metadata": {},
   "outputs": [
    {
     "name": "stdout",
     "output_type": "stream",
     "text": [
      "This is derived class function\n",
      "This is base class function\n"
     ]
    }
   ],
   "source": [
    "base_obj.display2()\n",
    "base_obj.display()"
   ]
  },
  {
   "cell_type": "code",
   "execution_count": null,
   "id": "02b62ae2-69dd-47f9-b614-44ac5b9f7fd2",
   "metadata": {},
   "outputs": [],
   "source": []
  }
 ],
 "metadata": {
  "kernelspec": {
   "display_name": "Python 3 (ipykernel)",
   "language": "python",
   "name": "python3"
  },
  "language_info": {
   "codemirror_mode": {
    "name": "ipython",
    "version": 3
   },
   "file_extension": ".py",
   "mimetype": "text/x-python",
   "name": "python",
   "nbconvert_exporter": "python",
   "pygments_lexer": "ipython3",
   "version": "3.10.8"
  }
 },
 "nbformat": 4,
 "nbformat_minor": 5
}
